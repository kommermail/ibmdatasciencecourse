{
 "cells": [
  {
   "cell_type": "markdown",
   "id": "522eb8a0-f3d0-49b9-81a8-128ea38280c5",
   "metadata": {},
   "source": [
    "# Data Science Tools and Ecosystem"
   ]
  },
  {
   "cell_type": "markdown",
   "id": "7e466d0b-2d12-4f51-85ee-534f433ef304",
   "metadata": {},
   "source": [
    "#### In this notebook, Data Science tools are summarized."
   ]
  },
  {
   "cell_type": "markdown",
   "id": "1af2d875-b51e-412e-8beb-33a39c9eeb88",
   "metadata": {},
   "source": [
    "__Objectives:__\n",
    "\n",
    "- List popular languages for Data Science\n",
    "- List libraries used by Data Scientists\n",
    "- Create a table that includes Data Science tools\n",
    "- Perform arithmetic operations with Python"
   ]
  },
  {
   "cell_type": "markdown",
   "id": "e968cb43-f73f-4d68-8dfa-ac804d418c43",
   "metadata": {},
   "source": [
    "Some of the popular languages that Data Scientists use are:\n",
    "1. Python\n",
    "2. R\n",
    "3. SQL\n",
    "4. Julia"
   ]
  },
  {
   "cell_type": "markdown",
   "id": "e73c065b-747a-4556-bb61-1781875354a2",
   "metadata": {},
   "source": [
    "Some of the commonly used libraries by Data Scientists include:\n",
    "\n",
    "1. NumPy\n",
    "2. ggplot\n",
    "3. plotly\n",
    "4. Matplotlib\n",
    "5. Tensorflow"
   ]
  },
  {
   "cell_type": "markdown",
   "id": "6e018564-feca-4a84-8b3c-fd3463417c29",
   "metadata": {},
   "source": [
    "| Data Science Tools |\n",
    "|:------------------:|\n",
    "|  Jupyter Notebook  |\n",
    "| Visual Studio Code |\n",
    "|       RStudio      |"
   ]
  },
  {
   "cell_type": "markdown",
   "id": "c88716d0-5bb5-4e81-b4f8-89739514209a",
   "metadata": {},
   "source": [
    "### Below are a few examples of arithmetic expressions evaluated in Python."
   ]
  },
  {
   "cell_type": "code",
   "execution_count": 10,
   "id": "bb098a5c-4473-44c7-9226-205eeecdd2a6",
   "metadata": {},
   "outputs": [
    {
     "data": {
      "text/plain": [
       "17"
      ]
     },
     "execution_count": 10,
     "metadata": {},
     "output_type": "execute_result"
    }
   ],
   "source": [
    "#this is a simple equation where we multiply then add.\n",
    "(3*4)+5"
   ]
  },
  {
   "cell_type": "code",
   "execution_count": 11,
   "id": "2e97028b-425e-4215-85da-b3a5f930bfa2",
   "metadata": {},
   "outputs": [
    {
     "name": "stdout",
     "output_type": "stream",
     "text": [
      "200 minutes is  3.3333333333333335 hours.\n"
     ]
    }
   ],
   "source": [
    "#this will convert 200 minutes to hours by dividing by 60.\n",
    "hrs=200/60\n",
    "print(\"200 minutes is \", hrs, \"hours.\")"
   ]
  },
  {
   "cell_type": "markdown",
   "id": "6cf4989a-caca-4b3c-b07d-ad27b00173a4",
   "metadata": {},
   "source": [
    "## Author\n",
    "Liam"
   ]
  },
  {
   "cell_type": "code",
   "execution_count": null,
   "id": "9c2473ad-66d6-4e2c-a1a3-412f40f39a78",
   "metadata": {},
   "outputs": [],
   "source": []
  }
 ],
 "metadata": {
  "kernelspec": {
   "display_name": "Python 3 (ipykernel)",
   "language": "python",
   "name": "python3"
  },
  "language_info": {
   "codemirror_mode": {
    "name": "ipython",
    "version": 3
   },
   "file_extension": ".py",
   "mimetype": "text/x-python",
   "name": "python",
   "nbconvert_exporter": "python",
   "pygments_lexer": "ipython3",
   "version": "3.12.2"
  }
 },
 "nbformat": 4,
 "nbformat_minor": 5
}
